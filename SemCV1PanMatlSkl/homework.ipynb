{
 "cells": [
  {
   "cell_type": "markdown",
   "metadata": {
    "id": "tRGIC0YO2Mvz"
   },
   "source": [
    "<center><image src=\"https://drive.google.com/uc?id=1n3G4TdK_u6PQHcLrxB_A0HijNdigXmUH\">"
   ]
  },
  {
   "cell_type": "markdown",
   "metadata": {
    "id": "pgFYFftQKxY5"
   },
   "source": [
    "<h3 style=\"text-align: center;\"><b>Школа глубокого обучения ФПМИ МФТИ, 2024</b></h3>\n",
    "\n",
    "<h1 style=\"text-align: center;\"><b>Домашнее задание. Библиотека sklearn и классификация с помощью KNN</b></h1>"
   ]
  },
  {
   "cell_type": "markdown",
   "metadata": {
    "id": "cgiYn3hkWAAA"
   },
   "source": [
    "## Описание домашнего задания"
   ]
  },
  {
   "cell_type": "markdown",
   "metadata": {
    "id": "IZE9r4BEQb6E"
   },
   "source": [
    "В данном задании вы будете работать с датасетом о персонажах из вселенной Игры Престолов [A Wiki of Ice and Fire](http://awoiaf.westeros.org/). Вам предстоит предсказать, кто из персонажей умрет, а кто останется вживых.\n",
    "\n"
   ]
  },
  {
   "cell_type": "markdown",
   "metadata": {
    "id": "CMY39BOZwoL0"
   },
   "source": [
    "Описание данных:\n",
    "\n",
    "* **name**: Имя персонажа\n",
    "\n",
    "* **Title**: Социальный статус или знатность\n",
    "\n",
    "* **House**: Дом, к которому принадлежит персонаж\n",
    "\n",
    "* **Culture**: Социальная группа, к которой принадлежит персонаж\n",
    "\n",
    "* **book1/2/3/4/5**: Появление персонажа в книге\n",
    "\n",
    "* **Is noble**: Знатность персонажа, основанное на титуле\n",
    "\n",
    "* **Age**: Отсчет времени: 305 AC\n",
    "\n",
    "* **male**: Мужчина или женщина\n",
    "\n",
    "* **dateOfBirth**: дата рождения\n",
    "\n",
    "* **Spouse**: Имя супруги\\а персонажа\n",
    "\n",
    "* **Father**: Имя отца персонажа\n",
    "\n",
    "* **Mother**: Имя матери персонажа\n",
    "\n",
    "* **Heir**: Имя наследника персонажа\n",
    "\n",
    "* **Is married**: Represents whether the character is married\n",
    "\n",
    "* **Is spouse alive**: Represents whether character's spouse is alive\n",
    "\n",
    "* **Is mother alive:** Жива ли мать персонажа\n",
    "\n",
    "* **Is heir alive:** Жив ли наследник персонажа\n",
    "\n",
    "* **Is father alive:** Указывает, жив ли отец персонажа\n",
    "\n",
    "* **Number dead relations:** Количество умерших персонажей, с которыми персонаж связан\n",
    "\n",
    "* **Popularity score:** Количество внутренних входящих и исходящих ссылок на страницу персонажей в вики http://awoiaf.westeros.org\n",
    "\n",
    "Целевая переменная:\n",
    "* **isAlive**: жив ли персонаж в книге"
   ]
  },
  {
   "cell_type": "markdown",
   "metadata": {
    "id": "jGHHzuxLbaQ5"
   },
   "source": [
    "Оценивание:\n",
    "\n",
    "Баллы считаются следующим образом:\n",
    "\n",
    "1) $1.00 \\geqslant score \\geqslant 0.84$ --- 5 баллов\n",
    "\n",
    "2) $0.84 > score \\geqslant 0.77$ --- 4 балла\n",
    "\n",
    "3) $0.77 > score \\geqslant 0.70$ --- 3 балла\n",
    "\n",
    "4) $0.70 > score \\geqslant 0.65$ --- 2 балла\n",
    "\n",
    "5) $0.65 > score \\geqslant 0.6$ --- 1 балл\n",
    "\n",
    "6) $0.60 > score$ --- 0 баллов"
   ]
  },
  {
   "cell_type": "markdown",
   "metadata": {
    "id": "U75ajNjcWHCN"
   },
   "source": [
    "## Часть 1. Анализ и предобработка данных"
   ]
  },
  {
   "cell_type": "markdown",
   "metadata": {
    "id": "Uv-Z_6a9Ww4O"
   },
   "source": [
    "Здесь вам необходимо сделать все шаги, которые обсуждались в первой части семинара.\n",
    "* Предобработка данных\n",
    "  * Обработка пропущенных данных\n",
    "  * Создание новых признаков\n",
    "  * Удаление ненужных столбцов\n",
    "* Анализ данных\n",
    "  * Анализ целевой переменной\n",
    "  * Анализ признаков\n",
    "  * Анализ влияния признаков на целевую переменную\n",
    "* Подготовка данных для обучения модели"
   ]
  },
  {
   "cell_type": "markdown",
   "metadata": {
    "id": "VVY44eemxqAT"
   },
   "source": [
    "Загружаем датасет"
   ]
  },
  {
   "cell_type": "code",
   "execution_count": null,
   "metadata": {
    "colab": {
     "base_uri": "https://localhost:8080/"
    },
    "id": "ajMi-8vUxsog",
    "outputId": "b3ace62c-4e6f-4aab-878c-e8723918f44d"
   },
   "outputs": [],
   "source": []
  },
  {
   "cell_type": "markdown",
   "metadata": {
    "id": "ON8TMTBTWa_E"
   },
   "source": [
    "**Задание 1.1.** Импортируйте библиотеки pandas, matplotlib, seaborn"
   ]
  },
  {
   "cell_type": "code",
   "execution_count": 263,
   "metadata": {
    "id": "QO08nAt6mO7E"
   },
   "outputs": [],
   "source": [
    "#  Импортируем библиотеки pandas, matplotlib, seaborn\n",
    "import pandas as pd\n",
    "import matplotlib.pyplot as plt\n",
    "import seaborn as sns\n",
    "import numpy as np\n",
    "\n",
    "\n",
    "data = pd.read_csv('game_of_thrones_train.csv', index_col = 'S.No')"
   ]
  },
  {
   "cell_type": "code",
   "execution_count": 264,
   "metadata": {
    "id": "v0HRU0trQLmS"
   },
   "outputs": [],
   "source": [
    "#Index(['name', 'title', 'male', 'culture', 'dateOfBirth', 'mother', 'father',\n",
    " #      'heir', 'house', 'spouse', 'book1', 'book2', 'book3', 'book4', 'book5',\n",
    "  #     'isAliveMother', 'isAliveFather', 'isAliveHeir', 'isAliveSpouse',\n",
    "   #    'isMarried', 'isNoble', 'age', 'numDeadRelations', 'popularity',\n",
    "    #   'isAlive'],\n",
    "     # dtype='object')\n",
    "\n",
    "drop_column_list = [ 'mother','father', 'heir',\n",
    "       'isAliveMother', 'isAliveFather', 'isAliveHeir', ]\n",
    "data.drop(columns=drop_column_list, inplace=True)"
   ]
  },
  {
   "cell_type": "code",
   "execution_count": 265,
   "metadata": {
    "id": "1Tv0scrImXTM"
   },
   "outputs": [
    {
     "name": "stdout",
     "output_type": "stream",
     "text": [
      "name: 0.0 % пропущенных данных\n",
      "title: 53.95 % пропущенных данных\n",
      "male: 0.0 % пропущенных данных\n",
      "culture: 68.658 % пропущенных данных\n",
      "dateOfBirth: 82.081 % пропущенных данных\n",
      "house: 24.47 % пропущенных данных\n",
      "spouse: 87.155 % пропущенных данных\n",
      "book1: 0.0 % пропущенных данных\n",
      "book2: 0.0 % пропущенных данных\n",
      "book3: 0.0 % пропущенных данных\n",
      "book4: 0.0 % пропущенных данных\n",
      "book5: 0.0 % пропущенных данных\n",
      "isAliveSpouse: 87.155 % пропущенных данных\n",
      "isMarried: 0.0 % пропущенных данных\n",
      "isNoble: 0.0 % пропущенных данных\n",
      "age: 82.081 % пропущенных данных\n",
      "numDeadRelations: 0.0 % пропущенных данных\n",
      "popularity: 0.0 % пропущенных данных\n",
      "isAlive: 0.0 % пропущенных данных\n"
     ]
    }
   ],
   "source": [
    "for column_name, column_data in data.items():\n",
    "    na_percentage = round((column_data.isna().sum() / len(column_data)) * 100, 3)\n",
    "    print(f'{column_name}: {na_percentage} % пропущенных данных')"
   ]
  },
  {
   "cell_type": "code",
   "execution_count": 243,
   "metadata": {},
   "outputs": [
    {
     "data": {
      "text/html": [
       "<div>\n",
       "<style scoped>\n",
       "    .dataframe tbody tr th:only-of-type {\n",
       "        vertical-align: middle;\n",
       "    }\n",
       "\n",
       "    .dataframe tbody tr th {\n",
       "        vertical-align: top;\n",
       "    }\n",
       "\n",
       "    .dataframe thead th {\n",
       "        text-align: right;\n",
       "    }\n",
       "</style>\n",
       "<table border=\"1\" class=\"dataframe\">\n",
       "  <thead>\n",
       "    <tr style=\"text-align: right;\">\n",
       "      <th></th>\n",
       "      <th>title</th>\n",
       "      <th>male</th>\n",
       "      <th>spouse</th>\n",
       "      <th>book1</th>\n",
       "      <th>book2</th>\n",
       "      <th>book3</th>\n",
       "      <th>book4</th>\n",
       "      <th>book5</th>\n",
       "      <th>isAliveSpouse</th>\n",
       "      <th>isMarried</th>\n",
       "      <th>isNoble</th>\n",
       "      <th>age</th>\n",
       "      <th>isAlive</th>\n",
       "      <th>isPopular</th>\n",
       "      <th>boolDeadRelations</th>\n",
       "    </tr>\n",
       "    <tr>\n",
       "      <th>S.No</th>\n",
       "      <th></th>\n",
       "      <th></th>\n",
       "      <th></th>\n",
       "      <th></th>\n",
       "      <th></th>\n",
       "      <th></th>\n",
       "      <th></th>\n",
       "      <th></th>\n",
       "      <th></th>\n",
       "      <th></th>\n",
       "      <th></th>\n",
       "      <th></th>\n",
       "      <th></th>\n",
       "      <th></th>\n",
       "      <th></th>\n",
       "    </tr>\n",
       "  </thead>\n",
       "  <tbody>\n",
       "    <tr>\n",
       "      <th>1</th>\n",
       "      <td>Rare</td>\n",
       "      <td>1</td>\n",
       "      <td>Unc</td>\n",
       "      <td>0</td>\n",
       "      <td>0</td>\n",
       "      <td>0</td>\n",
       "      <td>0</td>\n",
       "      <td>0</td>\n",
       "      <td>1.0</td>\n",
       "      <td>0</td>\n",
       "      <td>0</td>\n",
       "      <td>3</td>\n",
       "      <td>0</td>\n",
       "      <td>1.0</td>\n",
       "      <td>1.0</td>\n",
       "    </tr>\n",
       "    <tr>\n",
       "      <th>2</th>\n",
       "      <td>Rare</td>\n",
       "      <td>1</td>\n",
       "      <td>Unc</td>\n",
       "      <td>1</td>\n",
       "      <td>1</td>\n",
       "      <td>1</td>\n",
       "      <td>1</td>\n",
       "      <td>1</td>\n",
       "      <td>1.0</td>\n",
       "      <td>1</td>\n",
       "      <td>1</td>\n",
       "      <td>5</td>\n",
       "      <td>1</td>\n",
       "      <td>1.0</td>\n",
       "      <td>1.0</td>\n",
       "    </tr>\n",
       "    <tr>\n",
       "      <th>3</th>\n",
       "      <td>Ser</td>\n",
       "      <td>1</td>\n",
       "      <td>Unc</td>\n",
       "      <td>0</td>\n",
       "      <td>0</td>\n",
       "      <td>0</td>\n",
       "      <td>1</td>\n",
       "      <td>0</td>\n",
       "      <td>1.0</td>\n",
       "      <td>0</td>\n",
       "      <td>1</td>\n",
       "      <td>3</td>\n",
       "      <td>1</td>\n",
       "      <td>0.0</td>\n",
       "      <td>0.0</td>\n",
       "    </tr>\n",
       "    <tr>\n",
       "      <th>4</th>\n",
       "      <td>Rare</td>\n",
       "      <td>0</td>\n",
       "      <td>Viserys I Targaryen</td>\n",
       "      <td>0</td>\n",
       "      <td>0</td>\n",
       "      <td>0</td>\n",
       "      <td>0</td>\n",
       "      <td>0</td>\n",
       "      <td>0.0</td>\n",
       "      <td>1</td>\n",
       "      <td>1</td>\n",
       "      <td>2</td>\n",
       "      <td>0</td>\n",
       "      <td>0.0</td>\n",
       "      <td>0.0</td>\n",
       "    </tr>\n",
       "    <tr>\n",
       "      <th>5</th>\n",
       "      <td>Rare</td>\n",
       "      <td>0</td>\n",
       "      <td>Unc</td>\n",
       "      <td>0</td>\n",
       "      <td>0</td>\n",
       "      <td>0</td>\n",
       "      <td>1</td>\n",
       "      <td>0</td>\n",
       "      <td>1.0</td>\n",
       "      <td>1</td>\n",
       "      <td>1</td>\n",
       "      <td>3</td>\n",
       "      <td>1</td>\n",
       "      <td>0.0</td>\n",
       "      <td>0.0</td>\n",
       "    </tr>\n",
       "    <tr>\n",
       "      <th>...</th>\n",
       "      <td>...</td>\n",
       "      <td>...</td>\n",
       "      <td>...</td>\n",
       "      <td>...</td>\n",
       "      <td>...</td>\n",
       "      <td>...</td>\n",
       "      <td>...</td>\n",
       "      <td>...</td>\n",
       "      <td>...</td>\n",
       "      <td>...</td>\n",
       "      <td>...</td>\n",
       "      <td>...</td>\n",
       "      <td>...</td>\n",
       "      <td>...</td>\n",
       "      <td>...</td>\n",
       "    </tr>\n",
       "    <tr>\n",
       "      <th>1553</th>\n",
       "      <td>Archmaester</td>\n",
       "      <td>1</td>\n",
       "      <td>Unc</td>\n",
       "      <td>1</td>\n",
       "      <td>0</td>\n",
       "      <td>1</td>\n",
       "      <td>1</td>\n",
       "      <td>0</td>\n",
       "      <td>1.0</td>\n",
       "      <td>0</td>\n",
       "      <td>1</td>\n",
       "      <td>3</td>\n",
       "      <td>1</td>\n",
       "      <td>0.0</td>\n",
       "      <td>0.0</td>\n",
       "    </tr>\n",
       "    <tr>\n",
       "      <th>1554</th>\n",
       "      <td>Rare</td>\n",
       "      <td>0</td>\n",
       "      <td>Unc</td>\n",
       "      <td>1</td>\n",
       "      <td>1</td>\n",
       "      <td>0</td>\n",
       "      <td>0</td>\n",
       "      <td>0</td>\n",
       "      <td>1.0</td>\n",
       "      <td>0</td>\n",
       "      <td>0</td>\n",
       "      <td>3</td>\n",
       "      <td>0</td>\n",
       "      <td>0.0</td>\n",
       "      <td>0.0</td>\n",
       "    </tr>\n",
       "    <tr>\n",
       "      <th>1555</th>\n",
       "      <td>Rare</td>\n",
       "      <td>1</td>\n",
       "      <td>Unc</td>\n",
       "      <td>0</td>\n",
       "      <td>1</td>\n",
       "      <td>1</td>\n",
       "      <td>1</td>\n",
       "      <td>1</td>\n",
       "      <td>1.0</td>\n",
       "      <td>0</td>\n",
       "      <td>0</td>\n",
       "      <td>3</td>\n",
       "      <td>0</td>\n",
       "      <td>0.0</td>\n",
       "      <td>0.0</td>\n",
       "    </tr>\n",
       "    <tr>\n",
       "      <th>1556</th>\n",
       "      <td>Rare</td>\n",
       "      <td>0</td>\n",
       "      <td>Unc</td>\n",
       "      <td>0</td>\n",
       "      <td>1</td>\n",
       "      <td>1</td>\n",
       "      <td>1</td>\n",
       "      <td>1</td>\n",
       "      <td>1.0</td>\n",
       "      <td>0</td>\n",
       "      <td>0</td>\n",
       "      <td>2</td>\n",
       "      <td>1</td>\n",
       "      <td>0.0</td>\n",
       "      <td>0.0</td>\n",
       "    </tr>\n",
       "    <tr>\n",
       "      <th>1557</th>\n",
       "      <td>Rare</td>\n",
       "      <td>0</td>\n",
       "      <td>Unc</td>\n",
       "      <td>0</td>\n",
       "      <td>0</td>\n",
       "      <td>0</td>\n",
       "      <td>1</td>\n",
       "      <td>1</td>\n",
       "      <td>1.0</td>\n",
       "      <td>0</td>\n",
       "      <td>0</td>\n",
       "      <td>1</td>\n",
       "      <td>0</td>\n",
       "      <td>0.0</td>\n",
       "      <td>0.0</td>\n",
       "    </tr>\n",
       "  </tbody>\n",
       "</table>\n",
       "<p>1557 rows × 15 columns</p>\n",
       "</div>"
      ],
      "text/plain": [
       "            title  male               spouse  book1  book2  book3  book4  \\\n",
       "S.No                                                                       \n",
       "1            Rare     1                  Unc      0      0      0      0   \n",
       "2            Rare     1                  Unc      1      1      1      1   \n",
       "3             Ser     1                  Unc      0      0      0      1   \n",
       "4            Rare     0  Viserys I Targaryen      0      0      0      0   \n",
       "5            Rare     0                  Unc      0      0      0      1   \n",
       "...           ...   ...                  ...    ...    ...    ...    ...   \n",
       "1553  Archmaester     1                  Unc      1      0      1      1   \n",
       "1554         Rare     0                  Unc      1      1      0      0   \n",
       "1555         Rare     1                  Unc      0      1      1      1   \n",
       "1556         Rare     0                  Unc      0      1      1      1   \n",
       "1557         Rare     0                  Unc      0      0      0      1   \n",
       "\n",
       "      book5  isAliveSpouse  isMarried  isNoble age  isAlive  isPopular  \\\n",
       "S.No                                                                     \n",
       "1         0            1.0          0        0   3        0        1.0   \n",
       "2         1            1.0          1        1   5        1        1.0   \n",
       "3         0            1.0          0        1   3        1        0.0   \n",
       "4         0            0.0          1        1   2        0        0.0   \n",
       "5         0            1.0          1        1   3        1        0.0   \n",
       "...     ...            ...        ...      ...  ..      ...        ...   \n",
       "1553      0            1.0          0        1   3        1        0.0   \n",
       "1554      0            1.0          0        0   3        0        0.0   \n",
       "1555      1            1.0          0        0   3        0        0.0   \n",
       "1556      1            1.0          0        0   2        1        0.0   \n",
       "1557      1            1.0          0        0   1        0        0.0   \n",
       "\n",
       "      boolDeadRelations  \n",
       "S.No                     \n",
       "1                   1.0  \n",
       "2                   1.0  \n",
       "3                   0.0  \n",
       "4                   0.0  \n",
       "5                   0.0  \n",
       "...                 ...  \n",
       "1553                0.0  \n",
       "1554                0.0  \n",
       "1555                0.0  \n",
       "1556                0.0  \n",
       "1557                0.0  \n",
       "\n",
       "[1557 rows x 15 columns]"
      ]
     },
     "execution_count": 243,
     "metadata": {},
     "output_type": "execute_result"
    }
   ],
   "source": [
    "#mean_age = data['age'][data['age'].notna()].mean()\n",
    "#mean_age\n",
    "\n",
    "# Отдельно заменим NaN на 'Rare'\n",
    "data['title'] = data['title'].fillna('Rare')\n",
    "data['culture'] = data['culture'].fillna('Outliers')\n",
    "data['house'] = data['house'].fillna('Uncommon')\n",
    "data['isAliveSpouse'] = data['isAliveSpouse'].fillna(1)\n",
    "data['age'] = data['age'].fillna(35.29)\n",
    "data['spouse']= data['spouse'].fillna('Unc')\n",
    "\n",
    "# Проверим результат\n",
    "\n",
    "\n",
    "# Находим количество встречаемых значений для каждого дома\n",
    "house_counts = data['title'].value_counts()\n",
    "\n",
    "# Определяем дома, которые встречаются один раз\n",
    "rare_title = house_counts[house_counts <= 9].index\n",
    "\n",
    "# Заменяем редкие дома (встречающиеся 1 раз) на 'Uncommon'\n",
    "data['title'] = data['title'].replace(rare_title, 'Rare')\n",
    "\n",
    "\n",
    "\n",
    "\n",
    "# Подсказка\n",
    "#Упростите признак culture, объединив схожие названия в один.\n",
    "cult = {\n",
    "    'Summer Islands': ['summer islands', 'summer islander', 'summer isles'],\n",
    "    'Ghiscari': ['ghiscari', 'ghiscaricari',  'ghis'],\n",
    "    'Asshai': [\"asshai'i\", 'asshai'],\n",
    "    'Lysene': ['lysene', 'lyseni'],\n",
    "    'Andal': ['andal', 'andals'],\n",
    "    'Braavosi': ['braavosi', 'braavos'],\n",
    "    'Dornish': ['dornishmen', 'dorne', 'dornish'],\n",
    "    'Myrish': ['myr', 'myrish', 'myrmen'],\n",
    "    'Westermen': ['westermen', 'westerman', 'westerlands'],\n",
    "    'Westerosi': ['westeros', 'westerosi'],\n",
    "    'Stormlander': ['stormlands', 'stormlander'],\n",
    "    'Norvoshi': ['norvos', 'norvoshi'],\n",
    "    'Northmen': ['the north', 'northmen'],\n",
    "    'Free Folk': ['wildling', 'first men', 'free folk'],\n",
    "    'Qartheen': ['qartheen', 'qarth'],\n",
    "    'Reach': ['the reach', 'reach', 'reachmen'],\n",
    "}\n",
    "\n",
    "# Переворачиваем словарь для обратного поиска (когда по значению можно найти ключ)\n",
    "reverse_cult = {alias: key for key, aliases in cult.items() for alias in aliases}\n",
    "\n",
    "data['culture'] = data['culture'].apply(lambda x: reverse_cult[x.lower()] if x.lower() in reverse_cult.keys() )\n",
    "\n",
    "#sorted(data['culture'].unique())\n",
    "\n",
    "# Находим количество встречаемых значений для каждого дома\n",
    "cult_counts = data['culture'].value_counts()\n",
    "\n",
    "# Определяем дома, которые встречаются один раз\n",
    "#rare_title = cult_counts[cult_counts <= 6].index\n",
    "\n",
    "# Заменяем редкие дома (встречающиеся 1 раз) на 'Uncommon'\n",
    "#data['culture'] = data['culture'].replace(rare_title, 'Outliers')\n",
    "\n",
    "\n",
    "\n",
    "\n",
    "\n",
    "\n",
    "#house_counts = data['house'].value_counts()\n",
    "\n",
    "# Определяем дома, которые встречаются один раз\n",
    "#rare_houses = house_counts[house_counts <= 12].index\n",
    "\n",
    "# Заменяем редкие дома (встречающиеся 1 раз) на 'Uncommon'\n",
    "#data['house'] = data['house'].replace(rare_houses, 'Uncommon')\n",
    "\n",
    "#data['house'].value_counts()\n",
    "\n",
    "\n",
    "\n",
    "# Находим количество встречаемых значений для каждого дома\n",
    "house_counts = data['spouse'].value_counts()\n",
    "\n",
    "# Определяем дома, которые встречаются один раз\n",
    "rare_title = house_counts[house_counts <= 1].index\n",
    "\n",
    "# Заменяем редкие дома (встречающиеся 1 раз) на 'Uncommon'\n",
    "data['spouse'] = data['spouse'].replace(rare_title, 'Unc')\n",
    "\n",
    "\n",
    "\n",
    "\n",
    "# Шаг 1: Находим среднее значение для строк, где 'age' >= 0\n",
    "mean_age = data['age'][(data['age'].notna()) & (data['age'] >= 0)].mean()\n",
    "\n",
    "# Шаг 2: Заменяем значения, которые NaN или меньше 0, на найденное среднее\n",
    "data['age'] = data['age'].apply(lambda x: mean_age if pd.isna(x) or x < 0 else x)\n",
    "\n",
    "# Шаг 3: Разделение на категории, перезаписываем столбец 'age'\n",
    "bins = [0, 15, 25, 40, 65, float('inf')]  # Границы для категорий\n",
    "labels = ['1', '2', '3', '4', '5']  # Метки для категорий\n",
    "\n",
    "# Используем pd.cut для разделения на категории и перезаписываем столбец 'age'\n",
    "data['age'] = pd.cut(data['age'], bins=bins, labels=labels, right=False)\n",
    "\n",
    "# Проверяем результат\n",
    "\n",
    "\n",
    "\n",
    "\n",
    "\n",
    "data['isPopular'] = np.where(data['popularity'] >= 0.5, 1.0, 0.0)\n",
    "\n",
    "drop_column_list = ['popularity']\n",
    "data.drop(columns=drop_column_list, inplace=True)\n",
    "data['isPopular']\n",
    "\n",
    "\n",
    "\n",
    "\n",
    "\n",
    "\n",
    "data['boolDeadRelations'] = np.where(data['numDeadRelations'] > 0, 1.0, 0.0)\n",
    "\n",
    "data[['boolDeadRelations','numDeadRelations']]\n",
    "drop_column_list = ['numDeadRelations']\n",
    "data.drop(columns=drop_column_list, inplace=True)\n",
    "data"
   ]
  },
  {
   "cell_type": "code",
   "execution_count": 244,
   "metadata": {},
   "outputs": [
    {
     "name": "stdout",
     "output_type": "stream",
     "text": [
      "Столбец: title\n",
      "title\n",
      "Rare           1141\n",
      "Ser             306\n",
      "Maester          29\n",
      "Archmaester      21\n",
      "Lord             19\n",
      "Septon           16\n",
      "Winterfell       15\n",
      "Lady             10\n",
      "Name: count, dtype: int64\n",
      "\n",
      "----------------------------------------\n",
      "\n",
      "Столбец: male\n",
      "male\n",
      "1    920\n",
      "0    637\n",
      "Name: count, dtype: int64\n",
      "\n",
      "----------------------------------------\n",
      "\n",
      "Столбец: spouse\n",
      "spouse\n",
      "Unc                    1535\n",
      "Walder Frey               6\n",
      "Craster                   4\n",
      "Viserys I Targaryen       2\n",
      "Kiera of Tyrosh           2\n",
      "Alys Arryn                2\n",
      "Stevron Frey              2\n",
      "Amerei Frey               2\n",
      "Rohanne Webber            2\n",
      "Name: count, dtype: int64\n",
      "\n",
      "----------------------------------------\n",
      "\n",
      "Столбец: book1\n",
      "book1\n",
      "0    1341\n",
      "1     216\n",
      "Name: count, dtype: int64\n",
      "\n",
      "----------------------------------------\n",
      "\n",
      "Столбец: book2\n",
      "book2\n",
      "0    1047\n",
      "1     510\n",
      "Name: count, dtype: int64\n",
      "\n",
      "----------------------------------------\n",
      "\n",
      "Столбец: book3\n",
      "book3\n",
      "0    885\n",
      "1    672\n",
      "Name: count, dtype: int64\n",
      "\n",
      "----------------------------------------\n",
      "\n",
      "Столбец: book4\n",
      "book4\n",
      "1    876\n",
      "0    681\n",
      "Name: count, dtype: int64\n",
      "\n",
      "----------------------------------------\n",
      "\n",
      "Столбец: book5\n",
      "book5\n",
      "0    1043\n",
      "1     514\n",
      "Name: count, dtype: int64\n",
      "\n",
      "----------------------------------------\n",
      "\n",
      "Столбец: isAliveSpouse\n",
      "isAliveSpouse\n",
      "1.0    1515\n",
      "0.0      42\n",
      "Name: count, dtype: int64\n",
      "\n",
      "----------------------------------------\n",
      "\n",
      "Столбец: isMarried\n",
      "isMarried\n",
      "0    1357\n",
      "1     200\n",
      "Name: count, dtype: int64\n",
      "\n",
      "----------------------------------------\n",
      "\n",
      "Столбец: isNoble\n",
      "isNoble\n",
      "0    873\n",
      "1    684\n",
      "Name: count, dtype: int64\n",
      "\n",
      "----------------------------------------\n",
      "\n",
      "Столбец: age\n",
      "age\n",
      "3    1313\n",
      "2      94\n",
      "4      60\n",
      "1      51\n",
      "5      39\n",
      "Name: count, dtype: int64\n",
      "\n",
      "----------------------------------------\n",
      "\n",
      "Столбец: isAlive\n",
      "isAlive\n",
      "1    1212\n",
      "0     345\n",
      "Name: count, dtype: int64\n",
      "\n",
      "----------------------------------------\n",
      "\n",
      "Столбец: isPopular\n",
      "isPopular\n",
      "0.0    1530\n",
      "1.0      27\n",
      "Name: count, dtype: int64\n",
      "\n",
      "----------------------------------------\n",
      "\n",
      "Столбец: boolDeadRelations\n",
      "boolDeadRelations\n",
      "0.0    1488\n",
      "1.0      69\n",
      "Name: count, dtype: int64\n",
      "\n",
      "----------------------------------------\n",
      "\n"
     ]
    }
   ],
   "source": [
    "for column in data.columns:\n",
    "    print(f\"Столбец: {column}\")\n",
    "    print(data[column].value_counts())\n",
    "    print(\"\\n\" + \"-\"*40 + \"\\n\")  # Разделитель для удобства чтения\n"
   ]
  },
  {
   "cell_type": "markdown",
   "metadata": {},
   "source": [
    "isAlive\n",
    "culture_Braavosi\n",
    "culture_Reach\n",
    "culture_Westermen\n",
    "house_Faith of the Seven\n",
    "house_House Frey\n",
    "house_House Greyjoy\n",
    "house_House Osgrey\n",
    "house_House Tyrell\n",
    "title_Archmaester\n",
    "title_Lady\n",
    "title_Lord\n",
    "title_Septon\n",
    "title_Winterfell\n",
    "spouse_Alys Arryn\n",
    "spouse_Amerei Frey\n",
    "spouse_Craster\n",
    "spouse_Kiera of Tyrosh\n",
    "spouse_Rohanne Webber\n",
    "spouse_Stevron Frey\n",
    "spouse_Viserys I Targaryen\n",
    "spouse_Walder Frey"
   ]
  },
  {
   "cell_type": "code",
   "execution_count": 245,
   "metadata": {},
   "outputs": [
    {
     "name": "stdout",
     "output_type": "stream",
     "text": [
      "      title  male  spouse  book1  book2  book3  book4  book5  isAliveSpouse  \\\n",
      "S.No                                                                          \n",
      "1         4     1       6      0      0      0      0      0            1.0   \n",
      "2         4     1       6      1      1      1      1      1            1.0   \n",
      "3         6     1       6      0      0      0      1      0            1.0   \n",
      "4         4     0       7      0      0      0      0      0            0.0   \n",
      "5         4     0       6      0      0      0      1      0            1.0   \n",
      "\n",
      "      isMarried  isNoble  age  isAlive  isPopular  boolDeadRelations  \n",
      "S.No                                                                  \n",
      "1             0        0    2        0        1.0                1.0  \n",
      "2             1        1    4        1        1.0                1.0  \n",
      "3             0        1    2        1        0.0                0.0  \n",
      "4             1        1    1        0        0.0                0.0  \n",
      "5             1        1    2        1        0.0                0.0  \n"
     ]
    }
   ],
   "source": [
    "\n",
    "from sklearn.preprocessing import LabelEncoder\n",
    "import pandas as pd\n",
    "\n",
    "# Создаем копию исходных данных\n",
    "df = data.copy()\n",
    "\n",
    "# Инициализируем LabelEncoder\n",
    "label_encoder = LabelEncoder()\n",
    "\n",
    "# Для каждой категориальной переменной применим Label Encoding\n",
    "categorical_columns = ['title', 'spouse', 'age']\n",
    "\n",
    "# Применяем Label Encoding к каждой категориальной переменной\n",
    "for column in categorical_columns:\n",
    "    # Применяем Label Encoding к столбцу\n",
    "    df[column] = label_encoder.fit_transform(df[column].astype(str))  # Преобразуем в строку для работы с NaN\n",
    "\n",
    "# Проверяем результат\n",
    "print(df.head())\n"
   ]
  },
  {
   "cell_type": "code",
   "execution_count": 246,
   "metadata": {},
   "outputs": [
    {
     "name": "stdout",
     "output_type": "stream",
     "text": [
      "Столбец: title\n",
      "title\n",
      "Rare           1141\n",
      "Ser             306\n",
      "Maester          29\n",
      "Archmaester      21\n",
      "Lord             19\n",
      "Septon           16\n",
      "Winterfell       15\n",
      "Lady             10\n",
      "Name: count, dtype: int64\n",
      "\n",
      "----------------------------------------\n",
      "\n",
      "Столбец: male\n",
      "male\n",
      "1    920\n",
      "0    637\n",
      "Name: count, dtype: int64\n",
      "\n",
      "----------------------------------------\n",
      "\n",
      "Столбец: spouse\n",
      "spouse\n",
      "Unc                    1535\n",
      "Walder Frey               6\n",
      "Craster                   4\n",
      "Viserys I Targaryen       2\n",
      "Kiera of Tyrosh           2\n",
      "Alys Arryn                2\n",
      "Stevron Frey              2\n",
      "Amerei Frey               2\n",
      "Rohanne Webber            2\n",
      "Name: count, dtype: int64\n",
      "\n",
      "----------------------------------------\n",
      "\n",
      "Столбец: book1\n",
      "book1\n",
      "0    1341\n",
      "1     216\n",
      "Name: count, dtype: int64\n",
      "\n",
      "----------------------------------------\n",
      "\n",
      "Столбец: book2\n",
      "book2\n",
      "0    1047\n",
      "1     510\n",
      "Name: count, dtype: int64\n",
      "\n",
      "----------------------------------------\n",
      "\n",
      "Столбец: book3\n",
      "book3\n",
      "0    885\n",
      "1    672\n",
      "Name: count, dtype: int64\n",
      "\n",
      "----------------------------------------\n",
      "\n",
      "Столбец: book4\n",
      "book4\n",
      "1    876\n",
      "0    681\n",
      "Name: count, dtype: int64\n",
      "\n",
      "----------------------------------------\n",
      "\n",
      "Столбец: book5\n",
      "book5\n",
      "0    1043\n",
      "1     514\n",
      "Name: count, dtype: int64\n",
      "\n",
      "----------------------------------------\n",
      "\n",
      "Столбец: isAliveSpouse\n",
      "isAliveSpouse\n",
      "1.0    1515\n",
      "0.0      42\n",
      "Name: count, dtype: int64\n",
      "\n",
      "----------------------------------------\n",
      "\n",
      "Столбец: isMarried\n",
      "isMarried\n",
      "0    1357\n",
      "1     200\n",
      "Name: count, dtype: int64\n",
      "\n",
      "----------------------------------------\n",
      "\n",
      "Столбец: isNoble\n",
      "isNoble\n",
      "0    873\n",
      "1    684\n",
      "Name: count, dtype: int64\n",
      "\n",
      "----------------------------------------\n",
      "\n",
      "Столбец: age\n",
      "age\n",
      "3    1313\n",
      "2      94\n",
      "4      60\n",
      "1      51\n",
      "5      39\n",
      "Name: count, dtype: int64\n",
      "\n",
      "----------------------------------------\n",
      "\n",
      "Столбец: isAlive\n",
      "isAlive\n",
      "1    1212\n",
      "0     345\n",
      "Name: count, dtype: int64\n",
      "\n",
      "----------------------------------------\n",
      "\n",
      "Столбец: isPopular\n",
      "isPopular\n",
      "0.0    1530\n",
      "1.0      27\n",
      "Name: count, dtype: int64\n",
      "\n",
      "----------------------------------------\n",
      "\n",
      "Столбец: boolDeadRelations\n",
      "boolDeadRelations\n",
      "0.0    1488\n",
      "1.0      69\n",
      "Name: count, dtype: int64\n",
      "\n",
      "----------------------------------------\n",
      "\n"
     ]
    }
   ],
   "source": [
    "for column in data.columns:\n",
    "    print(f\"Столбец: {column}\")\n",
    "    print(data[column].value_counts())\n",
    "    print(\"\\n\" + \"-\"*40 + \"\\n\")  # Разделитель для удобства чтения\n"
   ]
  },
  {
   "cell_type": "code",
   "execution_count": 209,
   "metadata": {},
   "outputs": [
    {
     "ename": "SyntaxError",
     "evalue": "invalid syntax (2531277625.py, line 5)",
     "output_type": "error",
     "traceback": [
      "\u001b[0;36m  Cell \u001b[0;32mIn[209], line 5\u001b[0;36m\u001b[0m\n\u001b[0;31m    house_Faith of the Seven\u001b[0m\n\u001b[0m                ^\u001b[0m\n\u001b[0;31mSyntaxError\u001b[0m\u001b[0;31m:\u001b[0m invalid syntax\n"
     ]
    }
   ],
   "source": [
    "isAlive\n",
    "culture_Braavosi\n",
    "culture_Reach\n",
    "culture_Westermen\n",
    "house_Faith of the Seven\n",
    "house_House Frey\n",
    "house_House Greyjoy\n",
    "house_House Osgrey\n",
    "house_House Tyrell\n",
    "title_Archmaester\n",
    "title_Lady\n",
    "title_Lord\n",
    "title_Septon\n",
    "title_Winterfell\n",
    "spouse_Alys Arryn\n",
    "spouse_Amerei Frey\n",
    "spouse_Craster\n",
    "spouse_Kiera of Tyrosh\n",
    "spouse_Rohanne Webber\n",
    "spouse_Stevron Frey\n",
    "spouse_Viserys I Targaryen\n",
    "spouse_Walder Frey"
   ]
  },
  {
   "cell_type": "code",
   "execution_count": 210,
   "metadata": {},
   "outputs": [],
   "source": [
    "data1= df"
   ]
  },
  {
   "cell_type": "code",
   "execution_count": 247,
   "metadata": {},
   "outputs": [],
   "source": [
    "X = df.drop(columns=['isAlive']).values\n",
    "y = df['isAlive'].values\n",
    "from sklearn.model_selection import train_test_split\n",
    "X_train, X_test, y_train, y_test = train_test_split (X,y, test_size = 0.2 ,shuffle = True)\n",
    "\n"
   ]
  },
  {
   "cell_type": "code",
   "execution_count": 248,
   "metadata": {},
   "outputs": [],
   "source": [
    "from sklearn.preprocessing import StandardScaler\n",
    "\n",
    "scaler = StandardScaler()\n",
    "scaler.fit(X_train)\n",
    "# Выход pca - numpy матрица, положим ее в новую переменную со всеми фичами\n",
    "X_train_scaled = scaler.transform(X_train)\n",
    "X_test_scaled = scaler.transform(X_test)"
   ]
  },
  {
   "cell_type": "code",
   "execution_count": 249,
   "metadata": {},
   "outputs": [],
   "source": [
    "from sklearn.linear_model import LogisticRegression\n",
    "from sklearn.ensemble import AdaBoostClassifier, RandomForestClassifier\n",
    "from sklearn.gaussian_process import GaussianProcessClassifier\n",
    "from sklearn.naive_bayes import GaussianNB\n",
    "from sklearn.neighbors import KNeighborsClassifier\n",
    "from sklearn.svm import SVC\n",
    "from sklearn.tree import DecisionTreeClassifier\n",
    "\n",
    "# Шаг 1. создание модели\n",
    "logistic_regression = LogisticRegression(C=1)\n",
    "\n",
    "# Шаг 2. обучение модели\n",
    "logistic_regression.fit(X_train_scaled, y_train)\n",
    "\n",
    "# Шаг 3. Предсказание на тестовых данных\n",
    "y_pred = logistic_regression.predict(X_test_scaled)\n",
    "\n",
    "\n",
    "\n",
    "# Шаг 1. создание модели\n",
    "adaboost_classifier =  AdaBoostClassifier()\n",
    "\n",
    "# Шаг 2. обучение модели\n",
    "adaboost_classifier.fit(X_train_scaled, y_train)\n",
    "\n",
    "# Шаг 3. Предсказание на тестовых данных\n",
    "y_pred = adaboost_classifier.predict(X_test_scaled)\n",
    "\n",
    "\n",
    "\n",
    "# Шаг 1. создание модели\n",
    "RandomForest_classifier =  RandomForestClassifier()\n",
    "\n",
    "# Шаг 2. обучение модели\n",
    "RandomForest_classifier.fit(X_train_scaled, y_train)\n",
    "\n",
    "# Шаг 3. Предсказание на тестовых данных\n",
    "y_pred = RandomForest_classifier.predict(X_test_scaled)\n",
    "\n",
    "\n",
    "\n",
    "\n",
    "\n",
    "# Шаг 1. создание модели\n",
    "gaussp_classifier = GaussianProcessClassifier()\n",
    "\n",
    "# Шаг 2. обучение модели\n",
    "gaussp_classifier.fit(X_train_scaled, y_train)\n",
    "\n",
    "# Шаг 3. Предсказание на тестовых данных\n",
    "y_pred = gaussp_classifier.predict(X_test_scaled)\n",
    "\n",
    "\n",
    "\n",
    "# Шаг 1. создание модели\n",
    "Gaussian_NB =  GaussianNB()\n",
    "\n",
    "# Шаг 2. обучение модели\n",
    "Gaussian_NB.fit(X_train_scaled, y_train)\n",
    "\n",
    "# Шаг 3. Предсказание на тестовых данных\n",
    "y_pred = Gaussian_NB.predict(X_test_scaled)\n",
    "\n",
    "\n",
    "\n",
    "# Шаг 1. создание модели\n",
    "KNN =  KNeighborsClassifier()\n",
    "\n",
    "# Шаг 2. обучение модели\n",
    "KNN.fit(X_train_scaled, y_train)\n",
    "\n",
    "# Шаг 3. Предсказание на тестовых данных\n",
    "y_pred = KNN.predict(X_test_scaled)\n",
    "\n",
    "\n",
    "\n",
    "\n",
    "# Шаг 1. создание модели\n",
    "SVC =  SVC()\n",
    "\n",
    "# Шаг 2. обучение модели\n",
    "SVC.fit(X_train_scaled, y_train)\n",
    "\n",
    "# Шаг 3. Предсказание на тестовых данных\n",
    "y_pred = SVC.predict(X_test_scaled)\n",
    "\n",
    "\n",
    "# Шаг 1. создание модели\n",
    "DTC =  DecisionTreeClassifier()\n",
    "\n",
    "# Шаг 2. обучение модели\n",
    "DTC.fit(X_train_scaled, y_train)\n",
    "\n",
    "# Шаг 3. Предсказание на тестовых данных\n",
    "y_pred = DTC.predict(X_test_scaled)\n"
   ]
  },
  {
   "cell_type": "code",
   "execution_count": 250,
   "metadata": {},
   "outputs": [
    {
     "name": "stdout",
     "output_type": "stream",
     "text": [
      "Accuracy : 0.8077\n",
      "Accuracy : 0.8013\n",
      "Accuracy : 0.7949\n",
      "Accuracy : 0.8141\n",
      "Accuracy : 0.7917\n",
      "Accuracy : 0.7853\n",
      "Accuracy : 0.8109\n",
      "Accuracy : 0.7404\n"
     ]
    }
   ],
   "source": [
    "from sklearn.metrics import accuracy_score\n",
    "\n",
    "\n",
    "# Шаг 3. Предсказание на тестовых данных\n",
    "y_pred = logistic_regression.predict(X_test_scaled)\n",
    "\n",
    "# Шаг 4. Оценка предсказания по метрике accuracy\n",
    "accuracy = accuracy_score(y_test, y_pred)\n",
    "print(\"Accuracy : %.4f\" % accuracy)\n",
    "\n",
    "\n",
    "\n",
    "\n",
    "\n",
    "\n",
    "# Шаг 3. Предсказание на тестовых данных\n",
    "y_pred = adaboost_classifier.predict(X_test_scaled)\n",
    "\n",
    "# Шаг 4. Оценка предсказания по метрике accuracy\n",
    "accuracy = accuracy_score(y_test, y_pred)\n",
    "\n",
    "# Шаг 4. Оценка предсказания по метрике accuracy\n",
    "\n",
    "print(\"Accuracy : %.4f\" % accuracy)\n",
    "\n",
    "\n",
    "\n",
    "\n",
    "# Шаг 3. Предсказание на тестовых данных\n",
    "y_pred = RandomForest_classifier.predict(X_test_scaled)\n",
    "\n",
    "# Шаг 4. Оценка предсказания по метрике accuracy\n",
    "accuracy = accuracy_score(y_test, y_pred)\n",
    "\n",
    "# Шаг 4. Оценка предсказания по метрике accuracy\n",
    "\n",
    "print(\"Accuracy : %.4f\" % accuracy)\n",
    "\n",
    "\n",
    "\n",
    "\n",
    "# Шаг 3. Предсказание на тестовых данных\n",
    "y_pred = gaussp_classifier.predict(X_test_scaled)\n",
    "\n",
    "# Шаг 4. Оценка предсказания по метрике accuracy\n",
    "accuracy = accuracy_score(y_test, y_pred)\n",
    "\n",
    "# Шаг 4. Оценка предсказания по метрике accuracy\n",
    "\n",
    "print(\"Accuracy : %.4f\" % accuracy)\n",
    "\n",
    "\n",
    "\n",
    "\n",
    "\n",
    "# Шаг 3. Предсказание на тестовых данных\n",
    "y_pred = Gaussian_NB.predict(X_test_scaled)\n",
    "\n",
    "# Шаг 4. Оценка предсказания по метрике accuracy\n",
    "accuracy = accuracy_score(y_test, y_pred)\n",
    "\n",
    "# Шаг 4. Оценка предсказания по метрике accuracy\n",
    "\n",
    "print(\"Accuracy : %.4f\" % accuracy)\n",
    "\n",
    "\n",
    "\n",
    "\n",
    "\n",
    "\n",
    "# Шаг 3. Предсказание на тестовых данных\n",
    "y_pred = KNN.predict(X_test_scaled)\n",
    "\n",
    "# Шаг 4. Оценка предсказания по метрике accuracy\n",
    "accuracy = accuracy_score(y_test, y_pred)\n",
    "\n",
    "# Шаг 4. Оценка предсказания по метрике accuracy\n",
    "\n",
    "print(\"Accuracy : %.4f\" % accuracy)\n",
    "\n",
    "\n",
    "\n",
    "\n",
    "\n",
    "# Шаг 3. Предсказание на тестовых данных\n",
    "y_pred = SVC.predict(X_test_scaled)\n",
    "\n",
    "# Шаг 4. Оценка предсказания по метрике accuracy\n",
    "accuracy = accuracy_score(y_test, y_pred)\n",
    "\n",
    "# Шаг 4. Оценка предсказания по метрике accuracy\n",
    "\n",
    "print(\"Accuracy : %.4f\" % accuracy)\n",
    "\n",
    "\n",
    "\n",
    "# Шаг 3. Предсказание на тестовых данных\n",
    "y_pred = DTC.predict(X_test_scaled)\n",
    "\n",
    "# Шаг 4. Оценка предсказания по метрике accuracy\n",
    "accuracy = accuracy_score(y_test, y_pred)\n",
    "\n",
    "# Шаг 4. Оценка предсказания по метрике accuracy\n",
    "\n",
    "print(\"Accuracy : %.4f\" % accuracy)\n"
   ]
  },
  {
   "cell_type": "code",
   "execution_count": null,
   "metadata": {},
   "outputs": [],
   "source": []
  },
  {
   "cell_type": "code",
   "execution_count": null,
   "metadata": {},
   "outputs": [],
   "source": []
  },
  {
   "cell_type": "code",
   "execution_count": null,
   "metadata": {},
   "outputs": [],
   "source": [
    "isAlive\n",
    "culture_Braavosi\n",
    "culture_Reach\n",
    "culture_Westermen\n",
    "house_Faith of the Seven\n",
    "house_House Frey\n",
    "house_House Greyjoy\n",
    "house_House Osgrey\n",
    "house_House Tyrell\n",
    "title_Archmaester\n",
    "title_Lady\n",
    "title_Lord\n",
    "title_Septon\n",
    "title_Winterfell\n",
    "spouse_Alys Arryn\n",
    "spouse_Amerei Frey\n",
    "spouse_Craster\n",
    "spouse_Kiera of Tyrosh\n",
    "spouse_Rohanne Webber\n",
    "spouse_Stevron Frey\n",
    "spouse_Viserys I Targaryen\n",
    "spouse_Walder Frey"
   ]
  },
  {
   "cell_type": "code",
   "execution_count": null,
   "metadata": {},
   "outputs": [],
   "source": []
  },
  {
   "cell_type": "code",
   "execution_count": null,
   "metadata": {},
   "outputs": [],
   "source": []
  },
  {
   "cell_type": "code",
   "execution_count": null,
   "metadata": {},
   "outputs": [],
   "source": []
  },
  {
   "cell_type": "code",
   "execution_count": null,
   "metadata": {},
   "outputs": [],
   "source": []
  },
  {
   "cell_type": "code",
   "execution_count": 251,
   "metadata": {},
   "outputs": [
    {
     "data": {
      "text/plain": [
       "Index(['name', 'title', 'male', 'culture', 'dateOfBirth', 'mother', 'father',\n",
       "       'heir', 'house', 'spouse', 'book1', 'book2', 'book3', 'book4', 'book5',\n",
       "       'isAliveMother', 'isAliveFather', 'isAliveHeir', 'isAliveSpouse',\n",
       "       'isMarried', 'isNoble', 'age', 'numDeadRelations', 'popularity'],\n",
       "      dtype='object')"
      ]
     },
     "execution_count": 251,
     "metadata": {},
     "output_type": "execute_result"
    }
   ],
   "source": [
    "data = pd.read_csv('game_of_thrones_test.csv', index_col = 'S.No')\n",
    "\n",
    "data.columns"
   ]
  },
  {
   "cell_type": "code",
   "execution_count": 252,
   "metadata": {},
   "outputs": [],
   "source": [
    "#Index(['name', 'title', 'male', 'culture', 'dateOfBirth', 'mother', 'father',\n",
    " #      'heir', 'house', 'spouse', 'book1', 'book2', 'book3', 'book4', 'book5',\n",
    "  #     'isAliveMother', 'isAliveFather', 'isAliveHeir', 'isAliveSpouse',\n",
    "   #    'isMarried', 'isNoble', 'age', 'numDeadRelations', 'popularity',\n",
    "    #   'isAlive'],\n",
    "     # dtype='object')\n",
    "\n",
    "drop_column_list = [ 'house','culture','name','mother','father', 'heir',\n",
    "       'isAliveMother', 'isAliveFather', 'isAliveHeir', 'dateOfBirth']\n",
    "data.drop(columns=drop_column_list, inplace=True)"
   ]
  },
  {
   "cell_type": "code",
   "execution_count": 253,
   "metadata": {},
   "outputs": [
    {
     "name": "stdout",
     "output_type": "stream",
     "text": [
      "title: 43.188 % пропущенных данных\n",
      "male: 0.0 % пропущенных данных\n",
      "spouse: 80.463 % пропущенных данных\n",
      "book1: 0.0 % пропущенных данных\n",
      "book2: 0.0 % пропущенных данных\n",
      "book3: 0.0 % пропущенных данных\n",
      "book4: 0.0 % пропущенных данных\n",
      "book5: 0.0 % пропущенных данных\n",
      "isAliveSpouse: 80.463 % пропущенных данных\n",
      "isMarried: 0.0 % пропущенных данных\n",
      "isNoble: 0.0 % пропущенных данных\n",
      "age: 60.411 % пропущенных данных\n",
      "numDeadRelations: 0.0 % пропущенных данных\n",
      "popularity: 0.0 % пропущенных данных\n"
     ]
    }
   ],
   "source": [
    "for column_name, column_data in data.items():\n",
    "    na_percentage = round((column_data.isna().sum() / len(column_data)) * 100, 3)\n",
    "    print(f'{column_name}: {na_percentage} % пропущенных данных')"
   ]
  },
  {
   "cell_type": "code",
   "execution_count": null,
   "metadata": {},
   "outputs": [],
   "source": []
  },
  {
   "cell_type": "code",
   "execution_count": 255,
   "metadata": {},
   "outputs": [
    {
     "data": {
      "text/html": [
       "<div>\n",
       "<style scoped>\n",
       "    .dataframe tbody tr th:only-of-type {\n",
       "        vertical-align: middle;\n",
       "    }\n",
       "\n",
       "    .dataframe tbody tr th {\n",
       "        vertical-align: top;\n",
       "    }\n",
       "\n",
       "    .dataframe thead th {\n",
       "        text-align: right;\n",
       "    }\n",
       "</style>\n",
       "<table border=\"1\" class=\"dataframe\">\n",
       "  <thead>\n",
       "    <tr style=\"text-align: right;\">\n",
       "      <th></th>\n",
       "      <th>title</th>\n",
       "      <th>male</th>\n",
       "      <th>spouse</th>\n",
       "      <th>book1</th>\n",
       "      <th>book2</th>\n",
       "      <th>book3</th>\n",
       "      <th>book4</th>\n",
       "      <th>book5</th>\n",
       "      <th>isAliveSpouse</th>\n",
       "      <th>isMarried</th>\n",
       "      <th>isNoble</th>\n",
       "      <th>age</th>\n",
       "      <th>isPopular</th>\n",
       "      <th>boolDeadRelations</th>\n",
       "    </tr>\n",
       "    <tr>\n",
       "      <th>S.No</th>\n",
       "      <th></th>\n",
       "      <th></th>\n",
       "      <th></th>\n",
       "      <th></th>\n",
       "      <th></th>\n",
       "      <th></th>\n",
       "      <th></th>\n",
       "      <th></th>\n",
       "      <th></th>\n",
       "      <th></th>\n",
       "      <th></th>\n",
       "      <th></th>\n",
       "      <th></th>\n",
       "      <th></th>\n",
       "    </tr>\n",
       "  </thead>\n",
       "  <tbody>\n",
       "    <tr>\n",
       "      <th>1558</th>\n",
       "      <td>Rare</td>\n",
       "      <td>0</td>\n",
       "      <td>Unc</td>\n",
       "      <td>0</td>\n",
       "      <td>0</td>\n",
       "      <td>0</td>\n",
       "      <td>0</td>\n",
       "      <td>1</td>\n",
       "      <td>1.0</td>\n",
       "      <td>0</td>\n",
       "      <td>0</td>\n",
       "      <td>5</td>\n",
       "      <td>0.0</td>\n",
       "      <td>0.0</td>\n",
       "    </tr>\n",
       "    <tr>\n",
       "      <th>1559</th>\n",
       "      <td>Rare</td>\n",
       "      <td>0</td>\n",
       "      <td>Unc</td>\n",
       "      <td>0</td>\n",
       "      <td>1</td>\n",
       "      <td>1</td>\n",
       "      <td>1</td>\n",
       "      <td>1</td>\n",
       "      <td>1.0</td>\n",
       "      <td>0</td>\n",
       "      <td>0</td>\n",
       "      <td>3</td>\n",
       "      <td>1.0</td>\n",
       "      <td>0.0</td>\n",
       "    </tr>\n",
       "    <tr>\n",
       "      <th>1560</th>\n",
       "      <td>Rare</td>\n",
       "      <td>0</td>\n",
       "      <td>Unc</td>\n",
       "      <td>0</td>\n",
       "      <td>0</td>\n",
       "      <td>1</td>\n",
       "      <td>1</td>\n",
       "      <td>0</td>\n",
       "      <td>1.0</td>\n",
       "      <td>0</td>\n",
       "      <td>0</td>\n",
       "      <td>3</td>\n",
       "      <td>0.0</td>\n",
       "      <td>0.0</td>\n",
       "    </tr>\n",
       "    <tr>\n",
       "      <th>1561</th>\n",
       "      <td>Ser</td>\n",
       "      <td>1</td>\n",
       "      <td>Unc</td>\n",
       "      <td>1</td>\n",
       "      <td>1</td>\n",
       "      <td>1</td>\n",
       "      <td>1</td>\n",
       "      <td>1</td>\n",
       "      <td>1.0</td>\n",
       "      <td>0</td>\n",
       "      <td>1</td>\n",
       "      <td>3</td>\n",
       "      <td>0.0</td>\n",
       "      <td>0.0</td>\n",
       "    </tr>\n",
       "    <tr>\n",
       "      <th>1562</th>\n",
       "      <td>Rare</td>\n",
       "      <td>1</td>\n",
       "      <td>Unc</td>\n",
       "      <td>1</td>\n",
       "      <td>1</td>\n",
       "      <td>1</td>\n",
       "      <td>1</td>\n",
       "      <td>1</td>\n",
       "      <td>1.0</td>\n",
       "      <td>1</td>\n",
       "      <td>0</td>\n",
       "      <td>3</td>\n",
       "      <td>0.0</td>\n",
       "      <td>0.0</td>\n",
       "    </tr>\n",
       "    <tr>\n",
       "      <th>...</th>\n",
       "      <td>...</td>\n",
       "      <td>...</td>\n",
       "      <td>...</td>\n",
       "      <td>...</td>\n",
       "      <td>...</td>\n",
       "      <td>...</td>\n",
       "      <td>...</td>\n",
       "      <td>...</td>\n",
       "      <td>...</td>\n",
       "      <td>...</td>\n",
       "      <td>...</td>\n",
       "      <td>...</td>\n",
       "      <td>...</td>\n",
       "      <td>...</td>\n",
       "    </tr>\n",
       "    <tr>\n",
       "      <th>1942</th>\n",
       "      <td>Rare</td>\n",
       "      <td>1</td>\n",
       "      <td>Unc</td>\n",
       "      <td>1</td>\n",
       "      <td>1</td>\n",
       "      <td>1</td>\n",
       "      <td>1</td>\n",
       "      <td>1</td>\n",
       "      <td>1.0</td>\n",
       "      <td>0</td>\n",
       "      <td>0</td>\n",
       "      <td>3</td>\n",
       "      <td>0.0</td>\n",
       "      <td>0.0</td>\n",
       "    </tr>\n",
       "    <tr>\n",
       "      <th>1943</th>\n",
       "      <td>Rare</td>\n",
       "      <td>1</td>\n",
       "      <td>Unc</td>\n",
       "      <td>0</td>\n",
       "      <td>1</td>\n",
       "      <td>0</td>\n",
       "      <td>1</td>\n",
       "      <td>1</td>\n",
       "      <td>1.0</td>\n",
       "      <td>0</td>\n",
       "      <td>0</td>\n",
       "      <td>3</td>\n",
       "      <td>0.0</td>\n",
       "      <td>0.0</td>\n",
       "    </tr>\n",
       "    <tr>\n",
       "      <th>1944</th>\n",
       "      <td>Rare</td>\n",
       "      <td>1</td>\n",
       "      <td>Unc</td>\n",
       "      <td>1</td>\n",
       "      <td>1</td>\n",
       "      <td>1</td>\n",
       "      <td>1</td>\n",
       "      <td>1</td>\n",
       "      <td>1.0</td>\n",
       "      <td>0</td>\n",
       "      <td>0</td>\n",
       "      <td>3</td>\n",
       "      <td>0.0</td>\n",
       "      <td>0.0</td>\n",
       "    </tr>\n",
       "    <tr>\n",
       "      <th>1945</th>\n",
       "      <td>Rare</td>\n",
       "      <td>1</td>\n",
       "      <td>Unc</td>\n",
       "      <td>0</td>\n",
       "      <td>0</td>\n",
       "      <td>1</td>\n",
       "      <td>1</td>\n",
       "      <td>1</td>\n",
       "      <td>1.0</td>\n",
       "      <td>0</td>\n",
       "      <td>0</td>\n",
       "      <td>3</td>\n",
       "      <td>0.0</td>\n",
       "      <td>0.0</td>\n",
       "    </tr>\n",
       "    <tr>\n",
       "      <th>1946</th>\n",
       "      <td>Rare</td>\n",
       "      <td>1</td>\n",
       "      <td>Unc</td>\n",
       "      <td>0</td>\n",
       "      <td>0</td>\n",
       "      <td>1</td>\n",
       "      <td>1</td>\n",
       "      <td>1</td>\n",
       "      <td>1.0</td>\n",
       "      <td>1</td>\n",
       "      <td>1</td>\n",
       "      <td>4</td>\n",
       "      <td>0.0</td>\n",
       "      <td>1.0</td>\n",
       "    </tr>\n",
       "  </tbody>\n",
       "</table>\n",
       "<p>389 rows × 14 columns</p>\n",
       "</div>"
      ],
      "text/plain": [
       "     title  male spouse  book1  book2  book3  book4  book5  isAliveSpouse  \\\n",
       "S.No                                                                        \n",
       "1558  Rare     0    Unc      0      0      0      0      1            1.0   \n",
       "1559  Rare     0    Unc      0      1      1      1      1            1.0   \n",
       "1560  Rare     0    Unc      0      0      1      1      0            1.0   \n",
       "1561   Ser     1    Unc      1      1      1      1      1            1.0   \n",
       "1562  Rare     1    Unc      1      1      1      1      1            1.0   \n",
       "...    ...   ...    ...    ...    ...    ...    ...    ...            ...   \n",
       "1942  Rare     1    Unc      1      1      1      1      1            1.0   \n",
       "1943  Rare     1    Unc      0      1      0      1      1            1.0   \n",
       "1944  Rare     1    Unc      1      1      1      1      1            1.0   \n",
       "1945  Rare     1    Unc      0      0      1      1      1            1.0   \n",
       "1946  Rare     1    Unc      0      0      1      1      1            1.0   \n",
       "\n",
       "      isMarried  isNoble age  isPopular  boolDeadRelations  \n",
       "S.No                                                        \n",
       "1558          0        0   5        0.0                0.0  \n",
       "1559          0        0   3        1.0                0.0  \n",
       "1560          0        0   3        0.0                0.0  \n",
       "1561          0        1   3        0.0                0.0  \n",
       "1562          1        0   3        0.0                0.0  \n",
       "...         ...      ...  ..        ...                ...  \n",
       "1942          0        0   3        0.0                0.0  \n",
       "1943          0        0   3        0.0                0.0  \n",
       "1944          0        0   3        0.0                0.0  \n",
       "1945          0        0   3        0.0                0.0  \n",
       "1946          1        1   4        0.0                1.0  \n",
       "\n",
       "[389 rows x 14 columns]"
      ]
     },
     "execution_count": 255,
     "metadata": {},
     "output_type": "execute_result"
    }
   ],
   "source": [
    "#mean_age = data['age'][data['age'].notna()].mean()\n",
    "#mean_age\n",
    "\n",
    "# Отдельно заменим NaN на 'Rare'\n",
    "data['title'] = data['title'].fillna('Rare')\n",
    "##data['culture'] = data['culture'].fillna('Outliers')\n",
    "##data['house'] = data['house'].fillna('Uncommon')\n",
    "data['isAliveSpouse'] = data['isAliveSpouse'].fillna(1)\n",
    "data['age'] = data['age'].fillna(35.29)\n",
    "data['spouse']= data['spouse'].fillna('Unc')\n",
    "\n",
    "# Проверим результат\n",
    "\n",
    "\n",
    "# Находим количество встречаемых значений для каждого дома\n",
    "house_counts = data['title'].value_counts()\n",
    "\n",
    "# Определяем дома, которые встречаются один раз\n",
    "rare_title = house_counts[house_counts <= 9].index\n",
    "\n",
    "# Заменяем редкие дома (встречающиеся 1 раз) на 'Uncommon'\n",
    "data['title'] = data['title'].replace(rare_title, 'Rare')\n",
    "\n",
    "\n",
    "\n",
    "\n",
    "# Подсказка\n",
    "#Упростите признак culture, объединив схожие названия в один.\n",
    "cult = {\n",
    "    'Summer Islands': ['summer islands', 'summer islander', 'summer isles'],\n",
    "    'Ghiscari': ['ghiscari', 'ghiscaricari',  'ghis'],\n",
    "    'Asshai': [\"asshai'i\", 'asshai'],\n",
    "    'Lysene': ['lysene', 'lyseni'],\n",
    "    'Andal': ['andal', 'andals'],\n",
    "    'Braavosi': ['braavosi', 'braavos'],\n",
    "    'Dornish': ['dornishmen', 'dorne', 'dornish'],\n",
    "    'Myrish': ['myr', 'myrish', 'myrmen'],\n",
    "    'Westermen': ['westermen', 'westerman', 'westerlands'],\n",
    "    'Westerosi': ['westeros', 'westerosi'],\n",
    "    'Stormlander': ['stormlands', 'stormlander'],\n",
    "    'Norvoshi': ['norvos', 'norvoshi'],\n",
    "    'Northmen': ['the north', 'northmen'],\n",
    "    'Free Folk': ['wildling', 'first men', 'free folk'],\n",
    "    'Qartheen': ['qartheen', 'qarth'],\n",
    "    'Reach': ['the reach', 'reach', 'reachmen'],\n",
    "}\n",
    "\n",
    "# Переворачиваем словарь для обратного поиска (когда по значению можно найти ключ)\n",
    "#reverse_cult = {alias: key for key, aliases in cult.items() for alias in aliases}\n",
    "\n",
    "#data['culture'] = data['culture'].apply(lambda x: reverse_cult[x.lower()] if x.lower() in reverse_cult.keys() else 'Outliers' )\n",
    "\n",
    "#sorted(data['culture'].unique())\n",
    "\n",
    "# Находим количество встречаемых значений для каждого дома\n",
    "#cult_counts = data['culture'].value_counts()\n",
    "\n",
    "# Определяем дома, которые встречаются один раз\n",
    "#rare_title = cult_counts[cult_counts <= 6].index\n",
    "\n",
    "# Заменяем редкие дома (встречающиеся 1 раз) на 'Uncommon'\n",
    "#data['culture'] = data['culture'].replace(rare_title, 'Outliers')\n",
    "\n",
    "\n",
    "\n",
    "\n",
    "\n",
    "\n",
    "#house_counts = data['house'].value_counts()\n",
    "\n",
    "# Определяем дома, которые встречаются один раз\n",
    "#rare_houses = house_counts[house_counts <= 12].index\n",
    "\n",
    "# Заменяем редкие дома (встречающиеся 1 раз) на 'Uncommon'\n",
    "#data['house'] = data['house'].replace(rare_houses, 'Uncommon')\n",
    "\n",
    "#data['house'].value_counts()\n",
    "\n",
    "\n",
    "\n",
    "# Находим количество встречаемых значений для каждого дома\n",
    "house_counts = data['spouse'].value_counts()\n",
    "\n",
    "# Определяем дома, которые встречаются один раз\n",
    "rare_title = house_counts[house_counts <= 1].index\n",
    "\n",
    "# Заменяем редкие дома (встречающиеся 1 раз) на 'Uncommon'\n",
    "data['spouse'] = data['spouse'].replace(rare_title, 'Unc')\n",
    "\n",
    "\n",
    "\n",
    "\n",
    "# Шаг 1: Находим среднее значение для строк, где 'age' >= 0\n",
    "mean_age = data['age'][(data['age'].notna()) & (data['age'] >= 0)].mean()\n",
    "\n",
    "# Шаг 2: Заменяем значения, которые NaN или меньше 0, на найденное среднее\n",
    "data['age'] = data['age'].apply(lambda x: mean_age if pd.isna(x) or x < 0 else x)\n",
    "\n",
    "# Шаг 3: Разделение на категории, перезаписываем столбец 'age'\n",
    "bins = [0, 15, 25, 40, 65, float('inf')]  # Границы для категорий\n",
    "labels = ['1', '2', '3', '4', '5']  # Метки для категорий\n",
    "\n",
    "# Используем pd.cut для разделения на категории и перезаписываем столбец 'age'\n",
    "data['age'] = pd.cut(data['age'], bins=bins, labels=labels, right=False)\n",
    "\n",
    "# Проверяем результат\n",
    "\n",
    "\n",
    "\n",
    "\n",
    "\n",
    "data['isPopular'] = np.where(data['popularity'] >= 0.5, 1.0, 0.0)\n",
    "\n",
    "drop_column_list = ['popularity']\n",
    "data.drop(columns=drop_column_list, inplace=True)\n",
    "data['isPopular']\n",
    "\n",
    "\n",
    "\n",
    "\n",
    "\n",
    "\n",
    "data['boolDeadRelations'] = np.where(data['numDeadRelations'] > 0, 1.0, 0.0)\n",
    "\n",
    "data[['boolDeadRelations','numDeadRelations']]\n",
    "drop_column_list = ['numDeadRelations']\n",
    "data.drop(columns=drop_column_list, inplace=True)\n",
    "data"
   ]
  },
  {
   "cell_type": "code",
   "execution_count": 256,
   "metadata": {},
   "outputs": [
    {
     "name": "stdout",
     "output_type": "stream",
     "text": [
      "      title  male  spouse  book1  book2  book3  book4  book5  isAliveSpouse  \\\n",
      "S.No                                                                          \n",
      "1558      1     0       1      0      0      0      0      1            1.0   \n",
      "1559      1     0       1      0      1      1      1      1            1.0   \n",
      "1560      1     0       1      0      0      1      1      0            1.0   \n",
      "1561      2     1       1      1      1      1      1      1            1.0   \n",
      "1562      1     1       1      1      1      1      1      1            1.0   \n",
      "\n",
      "      isMarried  isNoble  age  isPopular  boolDeadRelations  \n",
      "S.No                                                         \n",
      "1558          0        0    4        0.0                0.0  \n",
      "1559          0        0    2        1.0                0.0  \n",
      "1560          0        0    2        0.0                0.0  \n",
      "1561          0        1    2        0.0                0.0  \n",
      "1562          1        0    2        0.0                0.0  \n"
     ]
    }
   ],
   "source": [
    "\n",
    "from sklearn.preprocessing import LabelEncoder\n",
    "import pandas as pd\n",
    "\n",
    "# Создаем копию исходных данных\n",
    "df = data.copy()\n",
    "\n",
    "# Инициализируем LabelEncoder\n",
    "label_encoder = LabelEncoder()\n",
    "\n",
    "# Для каждой категориальной переменной применим Label Encoding\n",
    "categorical_columns = [ 'title', 'spouse', 'age']\n",
    "\n",
    "# Применяем Label Encoding к каждой категориальной переменной\n",
    "for column in categorical_columns:\n",
    "    # Применяем Label Encoding к столбцу\n",
    "    df[column] = label_encoder.fit_transform(df[column].astype(str))  # Преобразуем в строку для работы с NaN\n",
    "\n",
    "# Проверяем результат\n",
    "print(df.head())\n"
   ]
  },
  {
   "cell_type": "code",
   "execution_count": 257,
   "metadata": {},
   "outputs": [
    {
     "name": "stdout",
     "output_type": "stream",
     "text": [
      "title\n",
      "culture\n",
      "house\n",
      "spouse\n",
      "age\n",
      "isAlive\n",
      "      male  book1  book2  book3  book4  book5  isAliveSpouse  isMarried  \\\n",
      "S.No                                                                      \n",
      "1558     0      0      0      0      0      1            1.0          0   \n",
      "1559     0      0      1      1      1      1            1.0          0   \n",
      "1560     0      0      0      1      1      0            1.0          0   \n",
      "1561     1      1      1      1      1      1            1.0          0   \n",
      "1562     1      1      1      1      1      1            1.0          1   \n",
      "...    ...    ...    ...    ...    ...    ...            ...        ...   \n",
      "1942     1      1      1      1      1      1            1.0          0   \n",
      "1943     1      0      1      0      1      1            1.0          0   \n",
      "1944     1      1      1      1      1      1            1.0          0   \n",
      "1945     1      0      0      1      1      1            1.0          0   \n",
      "1946     1      0      0      1      1      1            1.0          1   \n",
      "\n",
      "      isNoble  isPopular  ...  title_Maester  title_Rare  title_Ser  \\\n",
      "S.No                      ...                                         \n",
      "1558        0        0.0  ...            0.0         1.0        0.0   \n",
      "1559        0        1.0  ...            0.0         1.0        0.0   \n",
      "1560        0        0.0  ...            0.0         1.0        0.0   \n",
      "1561        1        0.0  ...            0.0         0.0        1.0   \n",
      "1562        0        0.0  ...            0.0         1.0        0.0   \n",
      "...       ...        ...  ...            ...         ...        ...   \n",
      "1942        0        0.0  ...            0.0         1.0        0.0   \n",
      "1943        0        0.0  ...            0.0         1.0        0.0   \n",
      "1944        0        0.0  ...            0.0         1.0        0.0   \n",
      "1945        0        0.0  ...            0.0         1.0        0.0   \n",
      "1946        1        0.0  ...            0.0         1.0        0.0   \n",
      "\n",
      "      spouse_Tyrion Lannister  spouse_Unc  age_1  age_2  age_3  age_4  age_5  \n",
      "S.No                                                                          \n",
      "1558                      0.0         1.0    0.0    0.0    0.0    0.0    1.0  \n",
      "1559                      0.0         1.0    0.0    0.0    1.0    0.0    0.0  \n",
      "1560                      0.0         1.0    0.0    0.0    1.0    0.0    0.0  \n",
      "1561                      0.0         1.0    0.0    0.0    1.0    0.0    0.0  \n",
      "1562                      0.0         1.0    0.0    0.0    1.0    0.0    0.0  \n",
      "...                       ...         ...    ...    ...    ...    ...    ...  \n",
      "1942                      0.0         1.0    0.0    0.0    1.0    0.0    0.0  \n",
      "1943                      0.0         1.0    0.0    0.0    1.0    0.0    0.0  \n",
      "1944                      0.0         1.0    0.0    0.0    1.0    0.0    0.0  \n",
      "1945                      0.0         1.0    0.0    0.0    1.0    0.0    0.0  \n",
      "1946                      0.0         1.0    0.0    0.0    0.0    1.0    0.0  \n",
      "\n",
      "[389 rows x 33 columns]\n"
     ]
    }
   ],
   "source": [
    "#import pandas as pd\n",
    "\n",
    "# Пример датафреймов (data1 и data2)\n",
    "# data1 - первый датафрейм\n",
    "# data2 - второй датафрейм\n",
    "\n",
    "for column in data1.columns:\n",
    "   if column not in data2.columns:\n",
    "       print(column)\n",
    "        # Если столбец отсутствует в data2, добавляем его и заполняем модой из data1\n",
    "    #    mode_value = data1[column].mode()[0]  # Находим моду для столбца в data1\n",
    "     #   data2[column] = mode_value  # Добавляем столбец в data2 и заполняем его модой\n",
    "\n",
    "# Проверяем результат\n",
    "print(data2)\n"
   ]
  },
  {
   "cell_type": "code",
   "execution_count": null,
   "metadata": {},
   "outputs": [],
   "source": []
  },
  {
   "cell_type": "code",
   "execution_count": 258,
   "metadata": {},
   "outputs": [],
   "source": [
    "\n",
    "\n",
    "X = df.values\n",
    "#y = df['spouse_encoded']\n",
    "from sklearn.preprocessing import StandardScaler\n",
    "\n",
    "scaler = StandardScaler()\n",
    "scaler.fit(X)\n",
    "# Выход pca - numpy матрица, положим ее в новую переменную со всеми фичами\n",
    "X = scaler.transform(X)\n",
    "\n",
    "\n",
    "# Шаг 2. обучение модели\n",
    "#logistic_regression.fit(X, y)\n",
    "\n",
    "# Шаг 3. Предсказание на тестовых данных\n",
    "#y_pred = logistic_regression.predict(X_test_scaled)"
   ]
  },
  {
   "cell_type": "code",
   "execution_count": 259,
   "metadata": {},
   "outputs": [],
   "source": [
    "y_pred =  SVC.predict(X)\n",
    "\n",
    "\n",
    "\n",
    "submission = pd.read_csv(\"submission.csv\", index_col='S.No')\n",
    "\n",
    "\n",
    "submission['isAlive'] = y_pred\n",
    "\n"
   ]
  },
  {
   "cell_type": "code",
   "execution_count": 260,
   "metadata": {},
   "outputs": [
    {
     "data": {
      "text/plain": [
       "S.No\n",
       "1558    0\n",
       "1559    1\n",
       "1560    1\n",
       "1561    1\n",
       "1562    1\n",
       "       ..\n",
       "1942    1\n",
       "1943    1\n",
       "1944    1\n",
       "1945    1\n",
       "1946    1\n",
       "Name: isAlive, Length: 389, dtype: int64"
      ]
     },
     "execution_count": 260,
     "metadata": {},
     "output_type": "execute_result"
    }
   ],
   "source": [
    "submission['isAlive']"
   ]
  },
  {
   "cell_type": "code",
   "execution_count": 261,
   "metadata": {},
   "outputs": [],
   "source": [
    "\n",
    "\n",
    "\n",
    "submission.to_csv(\"new_submission.csv\", index=False)"
   ]
  },
  {
   "cell_type": "code",
   "execution_count": null,
   "metadata": {},
   "outputs": [],
   "source": []
  },
  {
   "cell_type": "code",
   "execution_count": null,
   "metadata": {},
   "outputs": [],
   "source": []
  },
  {
   "cell_type": "code",
   "execution_count": null,
   "metadata": {},
   "outputs": [],
   "source": []
  },
  {
   "cell_type": "code",
   "execution_count": null,
   "metadata": {},
   "outputs": [],
   "source": []
  },
  {
   "cell_type": "code",
   "execution_count": null,
   "metadata": {},
   "outputs": [],
   "source": []
  },
  {
   "cell_type": "code",
   "execution_count": null,
   "metadata": {},
   "outputs": [],
   "source": []
  },
  {
   "cell_type": "code",
   "execution_count": null,
   "metadata": {},
   "outputs": [],
   "source": []
  },
  {
   "cell_type": "code",
   "execution_count": null,
   "metadata": {},
   "outputs": [],
   "source": []
  },
  {
   "cell_type": "code",
   "execution_count": null,
   "metadata": {},
   "outputs": [],
   "source": []
  },
  {
   "cell_type": "code",
   "execution_count": null,
   "metadata": {},
   "outputs": [],
   "source": []
  },
  {
   "cell_type": "code",
   "execution_count": null,
   "metadata": {},
   "outputs": [],
   "source": []
  },
  {
   "cell_type": "code",
   "execution_count": null,
   "metadata": {},
   "outputs": [],
   "source": []
  },
  {
   "cell_type": "code",
   "execution_count": null,
   "metadata": {},
   "outputs": [],
   "source": []
  },
  {
   "cell_type": "code",
   "execution_count": null,
   "metadata": {},
   "outputs": [],
   "source": []
  },
  {
   "cell_type": "code",
   "execution_count": null,
   "metadata": {},
   "outputs": [],
   "source": []
  },
  {
   "cell_type": "code",
   "execution_count": null,
   "metadata": {
    "id": "Pzc5a4enmYtn"
   },
   "outputs": [],
   "source": [
    "# ..."
   ]
  },
  {
   "cell_type": "code",
   "execution_count": null,
   "metadata": {
    "id": "sQRo20Bfmxlm"
   },
   "outputs": [],
   "source": [
    "# ..."
   ]
  },
  {
   "cell_type": "code",
   "execution_count": null,
   "metadata": {
    "id": "oRvPBbyUm0Je"
   },
   "outputs": [],
   "source": [
    "# ..."
   ]
  },
  {
   "cell_type": "markdown",
   "metadata": {
    "id": "qaEaLMe0lr9G"
   },
   "source": [
    "**Задание 1.8.** Проанализируйте влияние признаков на целевую переменную."
   ]
  },
  {
   "cell_type": "code",
   "execution_count": null,
   "metadata": {
    "id": "LSqNtjWufhwh"
   },
   "outputs": [],
   "source": [
    "# ..."
   ]
  },
  {
   "cell_type": "markdown",
   "metadata": {
    "id": "1VAb2VGmilof"
   },
   "source": [
    "**Задание 1.9.** Создайте переменные `X`, которая будет хранить только значения признаков, и `y`, которая будет хранить только значения целевой переменной."
   ]
  },
  {
   "cell_type": "code",
   "execution_count": null,
   "metadata": {
    "id": "5_rg7DQfatPu"
   },
   "outputs": [],
   "source": [
    "X = # ...\n",
    "y = # ..."
   ]
  },
  {
   "cell_type": "markdown",
   "metadata": {
    "id": "l4rlYPP-iago"
   },
   "source": [
    "**Задание 1.10.** Разделите датасет на train и test часть при помощи функции `train_test_split`"
   ]
  },
  {
   "cell_type": "code",
   "execution_count": null,
   "metadata": {
    "id": "GK1X0OBPb4m-"
   },
   "outputs": [],
   "source": [
    "from sklearn.model_selection import train_test_split"
   ]
  },
  {
   "cell_type": "code",
   "execution_count": null,
   "metadata": {
    "id": "HASZhG6Pby5X"
   },
   "outputs": [],
   "source": [
    "X_train, X_test, y_train, y_test = # ..."
   ]
  },
  {
   "cell_type": "markdown",
   "metadata": {
    "id": "GW9X4s8qWm98"
   },
   "source": [
    "## Часть 2. Обучение моделей"
   ]
  },
  {
   "cell_type": "markdown",
   "metadata": {
    "id": "Tu1DFWstaOh0"
   },
   "source": [
    "В данной части домашнего задания, мы хотим научиться обучать модели для задачи классификации на наших данных."
   ]
  },
  {
   "cell_type": "markdown",
   "metadata": {
    "id": "R6924OYeaisZ"
   },
   "source": [
    "**Задание 2.1.** Импортируйте следующие модели из библиотеки `sklearn`\n",
    "* LogisticRegression\n",
    "* RandomForestClassifier\n",
    "* AdaBoostClassifier\n",
    "* GaussianProcessClassifier\n",
    "* GaussianNB\n",
    "* KNeighborsClassifier\n",
    "* SVC\n",
    "* DecisionTreeClassifier\n"
   ]
  },
  {
   "cell_type": "markdown",
   "metadata": {
    "id": "L9NEqcMacrkU"
   },
   "source": [
    "В качестве примера, импортируем модель `LogisticRegression`"
   ]
  },
  {
   "cell_type": "code",
   "execution_count": null,
   "metadata": {
    "id": "qDy9pjzmbLDB"
   },
   "outputs": [],
   "source": [
    "from sklearn.linear_model import LogisticRegression"
   ]
  },
  {
   "cell_type": "markdown",
   "metadata": {
    "id": "L7J-D3OXcx5Y"
   },
   "source": [
    "Импортируйте остальные модели из библиотеки `sklearn`. Чтобы понять как это сделать, воспользуйтесь официальный документацией `sklearn` $→$ [тык](https://scikit-learn.org/dev/user_guide.html). По ключевому названию модели, вы сможете найти необходимую информацию о том, как можно импортировать модель из библиотеки."
   ]
  },
  {
   "cell_type": "code",
   "execution_count": null,
   "metadata": {
    "id": "fWTANjK1c4Oi"
   },
   "outputs": [],
   "source": [
    "from ... import AdaBoostClassifier, RandomForestClassifier\n",
    "from ... import GaussianProcessClassifier\n",
    "from ... import GaussianNB\n",
    "from ... import KNeighborsClassifier\n",
    "from ... import SVC\n",
    "from ... import DecisionTreeClassifier"
   ]
  },
  {
   "cell_type": "markdown",
   "metadata": {
    "id": "0SffourId972"
   },
   "source": [
    "**Задание 2.2.** Обучите модель и сделайте предсказание на тестовой выборке"
   ]
  },
  {
   "cell_type": "markdown",
   "metadata": {
    "id": "Emdn45CYeMwW"
   },
   "source": [
    "В качестве примера, обучим модель `LogisticRegression` и сделаем на ней предсказания на тестовой выборке."
   ]
  },
  {
   "cell_type": "code",
   "execution_count": null,
   "metadata": {
    "id": "fsoHrG4wb8aw"
   },
   "outputs": [],
   "source": [
    "# Шаг 1. создание модели\n",
    "logistic_regression = LogisticRegression(C=1)\n",
    "\n",
    "# Шаг 2. обучение модели\n",
    "logistic_regression.fit(X_train, y_train)\n",
    "\n",
    "# Шаг 3. Предсказание на тестовых данных\n",
    "y_pred = logistic_regression.predict(X_test)"
   ]
  },
  {
   "cell_type": "markdown",
   "metadata": {
    "id": "u08T9URfeYZs"
   },
   "source": [
    "Аналогичным образом обучите остальные модели и сделайте предсказания на тестовой выборке."
   ]
  },
  {
   "cell_type": "code",
   "execution_count": null,
   "metadata": {
    "id": "Rp4yJWxXgQXA"
   },
   "outputs": [],
   "source": [
    "# Шаг 1. создание модели\n",
    "\n",
    "\n",
    "# Шаг 2. обучение модели\n",
    "\n",
    "\n",
    "# Шаг 3. Предсказание на тестовых данных\n"
   ]
  },
  {
   "cell_type": "markdown",
   "metadata": {
    "id": "6EDY2PuxXkJr"
   },
   "source": [
    "## Часть 3. Оцените качество моделей"
   ]
  },
  {
   "cell_type": "markdown",
   "metadata": {
    "id": "2fq6c3OLXonm"
   },
   "source": [
    "Вам необходимо познакомиться с метриками задачи классификации из sklearn. Оцените все модели и выберите лучшую по метрике качества Accuracy.\n",
    "\n",
    "С метриками классификации вы можете ознакомиться в [Yandex ML Book](https://education.yandex.ru/handbook/ml/article/metriki-klassifikacii-i-regressii).\n",
    "\n",
    "Для простоты в данном домашнем задании мы будем работать с самой базовой метрикой для задачи классификации - accuracy."
   ]
  },
  {
   "cell_type": "markdown",
   "metadata": {
    "id": "4e3r1qm1fJh5"
   },
   "source": [
    "**Задание 3.1.** Вам необходимо посчитать метрику для всех моделей и выбрать лучшую модель."
   ]
  },
  {
   "cell_type": "markdown",
   "metadata": {
    "id": "ZMPpyCXVX4kn"
   },
   "source": [
    "Сначала импортируем необходимую функцию из библиотеки sklearn для подсчета accuracy."
   ]
  },
  {
   "cell_type": "code",
   "execution_count": null,
   "metadata": {
    "id": "46hIpXgNaJ9Q"
   },
   "outputs": [],
   "source": [
    "from sklearn.metrics import accuracy_score"
   ]
  },
  {
   "cell_type": "markdown",
   "metadata": {
    "id": "OHbPHBmzfxpM"
   },
   "source": [
    "В качестве примера, посчитаем метрику accuracy для модели `LogisticRegression`"
   ]
  },
  {
   "cell_type": "code",
   "execution_count": null,
   "metadata": {
    "id": "NIMezW7sf7dM"
   },
   "outputs": [],
   "source": [
    "# Шаг 3. Предсказание на тестовых данных\n",
    "y_pred = logistic_regression.predict(X_test)\n",
    "\n",
    "# Шаг 4. Оценка предсказания по метрике accuracy\n",
    "accuracy = accuracy_score(y_test, y_pred)\n",
    "print(\"Accuracy : %.4f\" % accuracy)"
   ]
  },
  {
   "cell_type": "markdown",
   "metadata": {
    "id": "al5fPMVCgsag"
   },
   "source": [
    "Аналогичным образом посчитайте метрику accuracy для остальных моделей"
   ]
  },
  {
   "cell_type": "code",
   "execution_count": null,
   "metadata": {
    "id": "C2XL3UUOgzuB"
   },
   "outputs": [],
   "source": [
    "# Шаг 3. Предсказание на тестовых данных\n",
    "\n",
    "\n",
    "# Шаг 4. Оценка предсказания по метрике accuracy\n",
    "\n",
    "print(\"Accuracy : %.4f\" % accuracy)"
   ]
  },
  {
   "cell_type": "markdown",
   "metadata": {
    "id": "8PxPnhsDg2Rv"
   },
   "source": [
    "Выберите лучшую модель."
   ]
  },
  {
   "cell_type": "markdown",
   "metadata": {
    "id": "cY5PRBS-yWro"
   },
   "source": [
    "### Файл `submission.csv`"
   ]
  },
  {
   "cell_type": "markdown",
   "metadata": {
    "id": "a7h-o3dv1gvV"
   },
   "source": [
    "Вам нужно вместо значений в `submission.csv` файле в колонке `isAlive`, подставить свои предсказания и сохранить измененный файл."
   ]
  },
  {
   "cell_type": "code",
   "execution_count": null,
   "metadata": {
    "colab": {
     "base_uri": "https://localhost:8080/"
    },
    "id": "c_hZcwQm1B6U",
    "outputId": "e49eac65-0030-4cdc-b47c-34aefa13ad9d"
   },
   "outputs": [],
   "source": [
    "!gdown 1M14conWjAW2QLoyCXbHEAy8bql2f99eF"
   ]
  },
  {
   "cell_type": "code",
   "execution_count": null,
   "metadata": {
    "id": "9ae_dGCf1Jpi"
   },
   "outputs": [],
   "source": [
    "submission = pd.read_csv(\"/content/submission.csv\", index_col='S.No')"
   ]
  },
  {
   "cell_type": "code",
   "execution_count": null,
   "metadata": {
    "colab": {
     "base_uri": "https://localhost:8080/",
     "height": 455
    },
    "id": "JbruP2U01N-z",
    "outputId": "d92ed68a-f3bf-488e-e420-8c565a975d5d"
   },
   "outputs": [],
   "source": [
    "submission"
   ]
  },
  {
   "cell_type": "markdown",
   "metadata": {
    "id": "pCt9b7ih12If"
   },
   "source": [
    "Как сохранить измененный Pandas DataFrame в csv файл:"
   ]
  },
  {
   "cell_type": "code",
   "execution_count": null,
   "metadata": {
    "id": "FdCgUj7Z1Oty"
   },
   "outputs": [],
   "source": [
    "submission.to_csv(\"/content/new_submission.csv\", index=False)"
   ]
  }
 ],
 "metadata": {
  "colab": {
   "collapsed_sections": [
    "GW9X4s8qWm98"
   ],
   "provenance": []
  },
  "kernelspec": {
   "display_name": "Python 3 (ipykernel)",
   "language": "python",
   "name": "python3"
  },
  "language_info": {
   "codemirror_mode": {
    "name": "ipython",
    "version": 3
   },
   "file_extension": ".py",
   "mimetype": "text/x-python",
   "name": "python",
   "nbconvert_exporter": "python",
   "pygments_lexer": "ipython3",
   "version": "3.11.7"
  }
 },
 "nbformat": 4,
 "nbformat_minor": 4
}
